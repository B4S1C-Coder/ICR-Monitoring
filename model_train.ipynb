{
 "cells": [
  {
   "cell_type": "code",
   "execution_count": 162,
   "metadata": {},
   "outputs": [],
   "source": [
    "import numpy as np\n",
    "import pandas as pd\n",
    "from sklearn.model_selection import  train_test_split\n",
    "from sklearn.linear_model import LogisticRegression\n",
    "from sklearn.metrics import accuracy_score\n",
    "from sklearn.neural_network import MLPClassifier\n",
    "from sklearn.preprocessing import StandardScaler\n",
    "from sklearn.ensemble import RandomForestClassifier\n",
    "import joblib\n",
    "\n",
    "\n"
   ]
  },
  {
   "cell_type": "code",
   "execution_count": 163,
   "metadata": {},
   "outputs": [
    {
     "name": "stdout",
     "output_type": "stream",
     "text": [
      "       tau1      tau2      tau3      tau4        p1        p2        p3  \\\n",
      "0  2.959060  3.079885  8.381025  9.780754  3.763085 -0.782604 -1.257395   \n",
      "1  9.304097  4.902524  3.047541  1.369357  5.067812 -1.940058 -1.872742   \n",
      "2  8.971707  8.848428  3.046479  1.214518  3.405158 -1.207456 -1.277210   \n",
      "3  0.716415  7.669600  4.486641  2.340563  3.963791 -1.027473 -1.938944   \n",
      "4  3.134112  7.608772  4.943759  9.857573  3.525811 -1.125531 -1.845975   \n",
      "\n",
      "         p4        g1        g2        g3        g4      stab     stabf  \n",
      "0 -1.723086  0.650456  0.859578  0.887445  0.958034  0.055347  unstable  \n",
      "1 -1.255012  0.413441  0.862414  0.562139  0.781760 -0.005957    stable  \n",
      "2 -0.920492  0.163041  0.766689  0.839444  0.109853  0.003471  unstable  \n",
      "3 -0.997374  0.446209  0.976744  0.929381  0.362718  0.028871  unstable  \n",
      "4 -0.554305  0.797110  0.455450  0.656947  0.820923  0.049860  unstable  \n"
     ]
    }
   ],
   "source": [
    "data=pd.read_csv(\"data.csv\")\n",
    "print(data.head())\n"
   ]
  },
  {
   "cell_type": "code",
   "execution_count": 164,
   "metadata": {},
   "outputs": [],
   "source": [
    "X=data[['tau1','tau2','tau3','tau4','p1','p2','p3','p4','g1','g2','g3','g4']]\n",
    "y=data['stabf']\n",
    "X_train,X_test,y_train,y_test = train_test_split(X,y,test_size=0.2, random_state=42)"
   ]
  },
  {
   "cell_type": "code",
   "execution_count": 165,
   "metadata": {},
   "outputs": [],
   "source": [
    "model=LogisticRegression()\n",
    "model.fit(X_train,y_train)\n",
    "prediction=model.predict(X_test)"
   ]
  },
  {
   "cell_type": "code",
   "execution_count": 166,
   "metadata": {},
   "outputs": [],
   "source": [
    "model=LogisticRegression()\n",
    "model.fit(X_train,y_train)\n",
    "prediction=model.predict(X_test)"
   ]
  },
  {
   "cell_type": "code",
   "execution_count": 167,
   "metadata": {},
   "outputs": [],
   "source": [
    "model1=MLPClassifier(solver='lbfgs', alpha=1e-5,hidden_layer_sizes=(5, 2), random_state=1)\n",
    "model1.fit(X_train,y_train)\n",
    "prediction1=model1.predict(X_test)"
   ]
  },
  {
   "cell_type": "code",
   "execution_count": 168,
   "metadata": {},
   "outputs": [
    {
     "name": "stdout",
     "output_type": "stream",
     "text": [
      "accuracy reports1\n",
      "0.6535\n"
     ]
    }
   ],
   "source": [
    "accuracy1=accuracy_score(y_test,prediction1)\n",
    "print(\"accuracy reports1\")\n",
    "print(accuracy1)"
   ]
  },
  {
   "cell_type": "code",
   "execution_count": 169,
   "metadata": {},
   "outputs": [],
   "source": [
    "y=y.values.ravel()\n",
    "scaler = StandardScaler()\n",
    "X_train_scaled = scaler.fit_transform(X_train)\n",
    "X_test_scaled = scaler.transform(X_test)\n",
    "model2 = RandomForestClassifier(n_estimators=100, random_state=42)\n",
    "model2.fit(X_train_scaled, y_train)\n",
    "prediction2=model2.predict(X_test_scaled)"
   ]
  },
  {
   "cell_type": "code",
   "execution_count": 170,
   "metadata": {},
   "outputs": [
    {
     "name": "stdout",
     "output_type": "stream",
     "text": [
      "accuracy reports2\n",
      "91.14999999999999%\n"
     ]
    }
   ],
   "source": [
    "accuracy2=accuracy_score(y_test,prediction2)\n",
    "print(\"accuracy reports2\")\n",
    "print(accuracy2*100,'%',sep=\"\")"
   ]
  },
  {
   "cell_type": "code",
   "execution_count": null,
   "metadata": {},
   "outputs": [],
   "source": []
  },
  {
   "cell_type": "code",
   "execution_count": 171,
   "metadata": {},
   "outputs": [
    {
     "data": {
      "text/plain": [
       "['gridModel.pkl']"
      ]
     },
     "execution_count": 171,
     "metadata": {},
     "output_type": "execute_result"
    }
   ],
   "source": [
    "joblib.dump(model2, \"gridModel.pkl\")"
   ]
  }
 ],
 "metadata": {
  "kernelspec": {
   "display_name": "Python 3",
   "language": "python",
   "name": "python3"
  },
  "language_info": {
   "codemirror_mode": {
    "name": "ipython",
    "version": 3
   },
   "file_extension": ".py",
   "mimetype": "text/x-python",
   "name": "python",
   "nbconvert_exporter": "python",
   "pygments_lexer": "ipython3",
   "version": "3.12.4"
  }
 },
 "nbformat": 4,
 "nbformat_minor": 2
}
